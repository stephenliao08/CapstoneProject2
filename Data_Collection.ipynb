{
 "cells": [
  {
   "cell_type": "code",
   "execution_count": 100,
   "id": "a1926948",
   "metadata": {},
   "outputs": [],
   "source": [
    "import pandas as pd\n",
    "import numpy as np\n",
    "import matplotlib.pyplot as plt\n",
    "import seaborn as sns\n",
    "from sklearn.linear_model import LinearRegression\n",
    "from sklearn.ensemble import RandomForestRegressor\n",
    "from xgboost import XGBRegressor"
   ]
  },
  {
   "cell_type": "code",
   "execution_count": 101,
   "id": "8a882ce0",
   "metadata": {},
   "outputs": [
    {
     "name": "stdout",
     "output_type": "stream",
     "text": [
      "                  10Y Treasury Yield  CPIAUCSL  FEDFUNDS      GDP  \\\n",
      "observation_date                                                    \n",
      "1947-01-01                       NaN     21.48       NaN  243.164   \n",
      "1947-02-01                       NaN     21.62       NaN      NaN   \n",
      "1947-03-01                       NaN     22.00       NaN      NaN   \n",
      "1947-04-01                       NaN     22.00       NaN  245.968   \n",
      "1947-05-01                       NaN     21.95       NaN      NaN   \n",
      "\n",
      "                  CORESTICKM159SFRBATL  WM2NS  UNRATE  \n",
      "observation_date                                       \n",
      "1947-01-01                         NaN    NaN     NaN  \n",
      "1947-02-01                         NaN    NaN     NaN  \n",
      "1947-03-01                         NaN    NaN     NaN  \n",
      "1947-04-01                         NaN    NaN     NaN  \n",
      "1947-05-01                         NaN    NaN     NaN  \n"
     ]
    }
   ],
   "source": [
    "# Define file names\n",
    "file_names = [\n",
    "    \"10Y_DGS10.csv\",\n",
    "    \"CPI.csv\",\n",
    "    \"FEDFUNDS.csv\",\n",
    "    \"GDP.csv\",\n",
    "    \"INF_Sticky.csv\",\n",
    "    \"M2.csv\",\n",
    "    \"UNRATE.csv\"\n",
    "]\n",
    "\n",
    "# Initialize an empty list to store DataFrames\n",
    "dfs = []\n",
    "\n",
    "# Loop through each CSV file\n",
    "for file in file_names:\n",
    "    # Read the CSV file\n",
    "    df = pd.read_csv(file, parse_dates=['observation_date'])\n",
    "    \n",
    "    # Set 'observation_date' as the index\n",
    "    df.set_index('observation_date', inplace=True)\n",
    "    \n",
    "    # Append DataFrame to the list\n",
    "    dfs.append(df)\n",
    "\n",
    "# Merge all DataFrames on the 'observation_date' index\n",
    "merged_df = dfs[0]\n",
    "for df in dfs[1:]:\n",
    "    merged_df = merged_df.merge(df, how='outer', left_index=True, right_index=True)\n",
    "\n",
    "# Check the first few rows of the merged DataFrame\n",
    "print(merged_df.head())"
   ]
  },
  {
   "cell_type": "code",
   "execution_count": 102,
   "id": "534c6cc4",
   "metadata": {},
   "outputs": [
    {
     "name": "stdout",
     "output_type": "stream",
     "text": [
      "Null values in each column:\n",
      "10Y Treasury Yield       1107\n",
      "CPIAUCSL                16038\n",
      "FEDFUNDS                16128\n",
      "GDP                     16667\n",
      "CORESTICKM159SFRBATL    16290\n",
      "WM2NS                   14649\n",
      "UNRATE                  16050\n",
      "dtype: int64\n"
     ]
    }
   ],
   "source": [
    "# Find all null values in merged_df\n",
    "null_values = merged_df.isnull().sum()\n",
    "\n",
    "# Print the columns with null values and their counts\n",
    "print(\"Null values in each column:\")\n",
    "print(null_values[null_values > 0])"
   ]
  },
  {
   "cell_type": "code",
   "execution_count": 103,
   "id": "05bb8901",
   "metadata": {},
   "outputs": [
    {
     "name": "stdout",
     "output_type": "stream",
     "text": [
      "Null values after forward filling:\n",
      "10Y Treasury Yield       181\n",
      "FEDFUNDS                  90\n",
      "CORESTICKM159SFRBATL    1765\n",
      "WM2NS                   5160\n",
      "UNRATE                    12\n",
      "dtype: int64\n"
     ]
    }
   ],
   "source": [
    "# Forward fill the null values\n",
    "merged_df.ffill(inplace=True)\n",
    "\n",
    "# Optional: Verify by checking if there are any more null values\n",
    "null_values_after_ffill = merged_df.isnull().sum()\n",
    "\n",
    "print(\"Null values after forward filling:\")\n",
    "print(null_values_after_ffill[null_values_after_ffill > 0])"
   ]
  },
  {
   "cell_type": "code",
   "execution_count": 104,
   "id": "72d48062",
   "metadata": {},
   "outputs": [
    {
     "name": "stderr",
     "output_type": "stream",
     "text": [
      "C:\\Users\\steve\\AppData\\Local\\Temp\\ipykernel_15932\\3047265482.py:5: FutureWarning: 'M' is deprecated and will be removed in a future version, please use 'ME' instead.\n",
      "  monthly_cpi = merged_df['CPIAUCSL'].resample('M').last()\n"
     ]
    }
   ],
   "source": [
    "# Ensure the index is datetime\n",
    "merged_df.index = pd.to_datetime(merged_df.index)\n",
    "\n",
    "# Resample CPI to monthly frequency (use the last CPI value of each month)\n",
    "monthly_cpi = merged_df['CPIAUCSL'].resample('M').last()\n",
    "\n",
    "# Calculate YoY inflation and round to 2 decimal places\n",
    "monthly_inflation = ((monthly_cpi - monthly_cpi.shift(12)) / monthly_cpi.shift(12) * 100).round(2)\n",
    "\n",
    "# Reindex back to daily and forward-fill to assign inflation to each day\n",
    "daily_inflation = monthly_inflation.reindex(merged_df.index, method='ffill')\n",
    "\n",
    "# Assign to the DataFrame\n",
    "merged_df['Inflation'] = daily_inflation"
   ]
  },
  {
   "cell_type": "code",
   "execution_count": 105,
   "id": "44ba314b",
   "metadata": {},
   "outputs": [
    {
     "name": "stdout",
     "output_type": "stream",
     "text": [
      "                  10Y Treasury Yield  CPIAUCSL  FEDFUNDS      GDP  \\\n",
      "observation_date                                                    \n",
      "1947-01-01                       NaN     21.48       NaN  243.164   \n",
      "1947-02-01                       NaN     21.62       NaN  243.164   \n",
      "1947-03-01                       NaN     22.00       NaN  243.164   \n",
      "1947-04-01                       NaN     22.00       NaN  245.968   \n",
      "1947-05-01                       NaN     21.95       NaN  245.968   \n",
      "\n",
      "                  CORESTICKM159SFRBATL  WM2NS  UNRATE  Inflation  \n",
      "observation_date                                                  \n",
      "1947-01-01                         NaN    NaN     NaN        NaN  \n",
      "1947-02-01                         NaN    NaN     NaN        NaN  \n",
      "1947-03-01                         NaN    NaN     NaN        NaN  \n",
      "1947-04-01                         NaN    NaN     NaN        NaN  \n",
      "1947-05-01                         NaN    NaN     NaN        NaN  \n"
     ]
    }
   ],
   "source": [
    "# Check the first few rows of the merged DataFrame\n",
    "print(merged_df.head())"
   ]
  },
  {
   "cell_type": "code",
   "execution_count": 106,
   "id": "7c8b8f3e",
   "metadata": {},
   "outputs": [],
   "source": [
    "# First, rename the columns (without resetting the index)\n",
    "merged_df.columns = [\n",
    "    '10Y_Treasury_Yield',     # Column 1 (after index)\n",
    "    'CPI',                    # Column 2\n",
    "    'Fed_Funds_Rate',              # Column 3\n",
    "    'GDP',                    # Column 4\n",
    "    'Inflation_Sticky',       # Column 5\n",
    "    'M2_Money_Supply',        # Column 6\n",
    "    'Unemployment Rate',      # Column 7\n",
    "    'Inflation'               # Column 8\n",
    "]\n",
    "\n",
    "# Then rename the index itself to 'Date'\n",
    "merged_df.index.name = 'Date'"
   ]
  },
  {
   "cell_type": "code",
   "execution_count": 107,
   "id": "69dc04bb",
   "metadata": {},
   "outputs": [
    {
     "name": "stdout",
     "output_type": "stream",
     "text": [
      "Data after 1990:\n",
      "            10Y_Treasury_Yield   CPI  Fed_Funds_Rate       GDP  \\\n",
      "Date                                                             \n",
      "1981-01-01               12.43  87.2           19.08  3124.206   \n",
      "1981-01-02               12.42  87.2           19.08  3124.206   \n",
      "1981-01-05               12.15  87.2           19.08  3124.206   \n",
      "1981-01-06               12.11  87.2           19.08  3124.206   \n",
      "1981-01-07               12.38  87.2           19.08  3124.206   \n",
      "\n",
      "            Inflation_Sticky  M2_Money_Supply  Unemployment Rate  Inflation  \n",
      "Date                                                                         \n",
      "1981-01-01         12.018101           1601.8                7.5      12.35  \n",
      "1981-01-02         12.018101           1601.8                7.5      12.35  \n",
      "1981-01-05         12.018101           1620.7                7.5      12.35  \n",
      "1981-01-06         12.018101           1620.7                7.5      12.35  \n",
      "1981-01-07         12.018101           1620.7                7.5      12.35  \n"
     ]
    }
   ],
   "source": [
    "# Filter rows where 'observation_date' is on or after January 1, 1990\n",
    "merged_df = merged_df[merged_df.index.year >= 1981]\n",
    "\n",
    "# Optional: Confirm the change by printing the first few rows\n",
    "print(\"Data after 1990:\")\n",
    "print(merged_df.head())"
   ]
  },
  {
   "cell_type": "code",
   "execution_count": 108,
   "id": "34d4781f",
   "metadata": {},
   "outputs": [],
   "source": [
    "# Ensure the index is datetime\n",
    "merged_df.index = pd.to_datetime(merged_df.index)\n",
    "\n",
    "# Create a full daily date range from min to max date\n",
    "full_index = pd.date_range(start=merged_df.index.min(), end=merged_df.index.max(), freq='D')\n",
    "\n",
    "# Reindex the DataFrame to include all daily dates\n",
    "merged_df = merged_df.reindex(full_index)\n",
    "\n",
    "# Forward-fill missing values to populate new rows with the last known data\n",
    "merged_df = merged_df.ffill()\n",
    "\n",
    "# Optional: Rename the index to 'Date' for clarity\n",
    "merged_df.index.name = 'Date'"
   ]
  },
  {
   "cell_type": "code",
   "execution_count": 109,
   "id": "ab08596d",
   "metadata": {},
   "outputs": [],
   "source": [
    "# Save the merged DataFrame to a CSV file\n",
    "merged_df.to_csv(\"macro_data_1981.csv\")"
   ]
  },
  {
   "cell_type": "code",
   "execution_count": null,
   "id": "b5be39be",
   "metadata": {},
   "outputs": [],
   "source": []
  }
 ],
 "metadata": {
  "kernelspec": {
   "display_name": "Python (learn-env fixed)",
   "language": "python",
   "name": "learn-env"
  },
  "language_info": {
   "codemirror_mode": {
    "name": "ipython",
    "version": 3
   },
   "file_extension": ".py",
   "mimetype": "text/x-python",
   "name": "python",
   "nbconvert_exporter": "python",
   "pygments_lexer": "ipython3",
   "version": "3.10.18"
  }
 },
 "nbformat": 4,
 "nbformat_minor": 5
}
